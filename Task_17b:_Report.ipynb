{
 "cells": [
  {
   "cell_type": "code",
   "execution_count": null,
   "metadata": {
    "id": "h0LVvvnfJsg5"
   },
   "outputs": [],
   "source": [
    "# Import pandas\n",
    "import pandas as pd"
   ]
  },
  {
   "cell_type": "code",
   "execution_count": null,
   "metadata": {
    "id": "rv2oLRnPK36J"
   },
   "outputs": [],
   "source": [
    "# Create a DataFrame with balance.txt\n",
    "df = pd.read_csv('balance.txt', delim_whitespace=True)"
   ]
  },
  {
   "cell_type": "code",
   "execution_count": null,
   "metadata": {},
   "outputs": [],
   "source": [
    "#Compare the average income based on ethnicity.\n",
    "\n",
    "print(\"The average income of a caucasian is\", df[df.Ethnicity == \"Caucasian\"].loc[:,\"Income\"].mean())\n",
    "print(\"The average income of an asian is\",df[df.Ethnicity == \"Asian\"].loc[:,\"Income\"].mean())\n",
    "print(\"The average income of an african american is\",df[df.Ethnicity == \"African American\"].loc[:,\"Income\"].mean())"
   ]
  },
  {
   "cell_type": "code",
   "execution_count": null,
   "metadata": {},
   "outputs": [],
   "source": [
    "#On average, do married or single people have a higher balance?\n",
    "mean_balance_married = df[df.Married == \"Yes\"].loc[:,\"Balance\"].mean()\n",
    "mean_balance_single = df[df.Married == \"No\"].loc[:,\"Balance\"].mean()\n",
    "if mean_balance_married > mean_balance_single:\n",
    "    print(\"On average married people have a higher balance than single people.\")\n",
    "elif mean_balance_married < mean_balance_single:\n",
    "    print(\"On average single people have a higher balance than married people.\")\n",
    "else:\n",
    "    print(\"There is no diffrence in average balance between single and married people.\")"
   ]
  },
  {
   "cell_type": "code",
   "execution_count": null,
   "metadata": {},
   "outputs": [],
   "source": [
    "#What is the highest income in our dataset?\n",
    "print(\"The highest income in our dataset is\", df.loc[:, \"Income\"].max())"
   ]
  },
  {
   "cell_type": "code",
   "execution_count": null,
   "metadata": {},
   "outputs": [],
   "source": [
    "#What is the lowest income in our dataset?\n",
    "print(\"The lowest income in our dataset is\", df.loc[:, \"Income\"].min())"
   ]
  },
  {
   "cell_type": "code",
   "execution_count": null,
   "metadata": {},
   "outputs": [],
   "source": [
    "#How many cards do we have recorded in our dataset? (Hint: use sum())\n",
    "print(\"In our dataset the number of cards we have recored is\",df.loc[:, \"Cards\"].sum())"
   ]
  },
  {
   "cell_type": "code",
   "execution_count": null,
   "metadata": {},
   "outputs": [],
   "source": [
    "#How many females do we have information for vs how many males?\n",
    "print(\"The number of males we have in our dataset is\",df[df.Gender == \"Male\"].count())\n",
    "print(\"The number of females we have in our dataset is\",df[df.Gender == \"Female\"].count())"
   ]
  },
  {
   "cell_type": "markdown",
   "metadata": {
    "id": "_LXpBJXZLYoh"
   },
   "source": [
    "Write the code needed to produce a report that provides the following information:\n",
    "* Compare the average income based on ethnicity. \n",
    "* On average, do married or single people have a higher balance?\n",
    "* What is the highest income in our dataset?\n",
    "* What is the lowest income in our dataset?\n",
    "* How many cards do we have recorded in our dataset? (Hint: use `sum()`)\n",
    "* How many females do we have information for vs how many males? (Hint: use `count()`For a list of all methods for computation of descriptive stats, explore the [pandas documentation](https://pandas.pydata.org/pandas-docs/stable/reference/frame.html#computations-descriptive-stats)). \n",
    "\n",
    "\n"
   ]
  }
 ],
 "metadata": {
  "colab": {
   "authorship_tag": "ABX9TyP5J3xG1JXUCQAkP9OLQqdU",
   "provenance": []
  },
  "kernelspec": {
   "display_name": "Python 3 (ipykernel)",
   "language": "python",
   "name": "python3"
  },
  "language_info": {
   "codemirror_mode": {
    "name": "ipython",
    "version": 3
   },
   "file_extension": ".py",
   "mimetype": "text/x-python",
   "name": "python",
   "nbconvert_exporter": "python",
   "pygments_lexer": "ipython3",
   "version": "3.10.9"
  }
 },
 "nbformat": 4,
 "nbformat_minor": 1
}
